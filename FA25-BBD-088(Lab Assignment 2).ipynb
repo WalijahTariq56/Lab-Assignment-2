{
 "cells": [
  {
   "cell_type": "markdown",
   "id": "34014cfa-a79a-45b4-8f3d-9309a1cc0cf6",
   "metadata": {},
   "source": [
    "LAB ASSIGNMENT 1"
   ]
  },
  {
   "cell_type": "markdown",
   "id": "4217d610-60de-4857-9622-291697221027",
   "metadata": {},
   "source": [
    "WALIJAH TARIQ\n",
    "FA25-BBD-088"
   ]
  },
  {
   "cell_type": "markdown",
   "id": "ccc0fe33-071f-4fe2-bf93-df1391969af8",
   "metadata": {},
   "source": [
    "Task 1"
   ]
  },
  {
   "cell_type": "code",
   "execution_count": 1,
   "id": "5def802e-0c4c-493c-90e2-aa8e841f55ad",
   "metadata": {},
   "outputs": [
    {
     "name": "stdout",
     "output_type": "stream",
     "text": [
      "('Walijah', 19, 1.65)\n",
      "19\n"
     ]
    }
   ],
   "source": [
    "my_info = ('Walijah',19,1.65)\n",
    "print(my_info)\n",
    "print(my_info[1])"
   ]
  },
  {
   "cell_type": "markdown",
   "id": "142a26f8-7d99-4e74-a162-5bab684a7000",
   "metadata": {},
   "source": [
    "Task 2"
   ]
  },
  {
   "cell_type": "code",
   "execution_count": 2,
   "id": "80d38f36-9bbc-4501-af8b-b45ce1c266b9",
   "metadata": {},
   "outputs": [
    {
     "name": "stdout",
     "output_type": "stream",
     "text": [
      "<class 'tuple'>\n"
     ]
    }
   ],
   "source": [
    "single_day =('Monday',)\n",
    "print(type(single_day))"
   ]
  },
  {
   "cell_type": "markdown",
   "id": "fc01e9f8-1b17-41ed-8384-d8aa7547efd3",
   "metadata": {},
   "source": [
    "Task 3"
   ]
  },
  {
   "cell_type": "code",
   "execution_count": 3,
   "id": "3fdabb1c-37e8-407b-9991-70a02e1c1ea6",
   "metadata": {},
   "outputs": [
    {
     "name": "stdout",
     "output_type": "stream",
     "text": [
      "Jupiter\n",
      "Earth\n"
     ]
    }
   ],
   "source": [
    "planets = ('Mercury','Venus','Earth','Mars','Jupiter')\n",
    "print(planets[-1])\n",
    "print(planets[-3])"
   ]
  },
  {
   "cell_type": "markdown",
   "id": "b8cf006e-4dc3-4f90-a3be-f1010140e4d7",
   "metadata": {},
   "source": [
    "Task 4"
   ]
  },
  {
   "cell_type": "code",
   "execution_count": 4,
   "id": "071755a9-4aeb-4794-aedc-1bebd8d582c2",
   "metadata": {},
   "outputs": [
    {
     "name": "stdout",
     "output_type": "stream",
     "text": [
      "(1, 2, 3, 4, 5, 6)\n"
     ]
    }
   ],
   "source": [
    "front_numbers = (1,2,3)\n",
    "back_numbers =(4,5,6)\n",
    "combined_numbers = front_numbers + back_numbers\n",
    "print(combined_numbers)"
   ]
  },
  {
   "cell_type": "markdown",
   "id": "c0812e02-5a98-4ceb-884a-b9abaa3afe6a",
   "metadata": {},
   "source": [
    "Task 5"
   ]
  },
  {
   "cell_type": "code",
   "execution_count": 5,
   "id": "06e68b6e-3be3-450b-9d18-64b05fb11df3",
   "metadata": {},
   "outputs": [
    {
     "name": "stdout",
     "output_type": "stream",
     "text": [
      "('*', '*', '*')\n"
     ]
    }
   ],
   "source": [
    "icon = ('*',)\n",
    "ratings=icon*3\n",
    "print(ratings)"
   ]
  },
  {
   "cell_type": "markdown",
   "id": "c08787f0-4020-4ba0-8fa5-9a4b296af759",
   "metadata": {},
   "source": [
    "Task 6"
   ]
  },
  {
   "cell_type": "code",
   "execution_count": 6,
   "id": "9890158b-8de1-4191-bc7e-5e67ead37329",
   "metadata": {},
   "outputs": [
    {
     "ename": "TypeError",
     "evalue": "'tuple' object does not support item assignment",
     "output_type": "error",
     "traceback": [
      "\u001b[1;31m---------------------------------------------------------------------------\u001b[0m",
      "\u001b[1;31mTypeError\u001b[0m                                 Traceback (most recent call last)",
      "Cell \u001b[1;32mIn[6], line 2\u001b[0m\n\u001b[0;32m      1\u001b[0m status \u001b[38;5;241m=\u001b[39m (\u001b[38;5;124m'\u001b[39m\u001b[38;5;124mpending\u001b[39m\u001b[38;5;124m'\u001b[39m,\u001b[38;5;124m'\u001b[39m\u001b[38;5;124mprocessing\u001b[39m\u001b[38;5;124m'\u001b[39m,\u001b[38;5;124m'\u001b[39m\u001b[38;5;124mcompleted\u001b[39m\u001b[38;5;124m'\u001b[39m)\n\u001b[1;32m----> 2\u001b[0m status[\u001b[38;5;241m0\u001b[39m] \u001b[38;5;241m=\u001b[39m \u001b[38;5;124m'\u001b[39m\u001b[38;5;124mfailed\u001b[39m\u001b[38;5;124m'\u001b[39m\n",
      "\u001b[1;31mTypeError\u001b[0m: 'tuple' object does not support item assignment"
     ]
    }
   ],
   "source": [
    "status = ('pending','processing','completed')\n",
    "status[0] = 'failed'"
   ]
  },
  {
   "cell_type": "markdown",
   "id": "ed86a18a-dfc9-4412-9b9f-f92cc2977ad7",
   "metadata": {},
   "source": [
    "Task 7"
   ]
  },
  {
   "cell_type": "code",
   "execution_count": 7,
   "id": "8f0154e5-13c2-4347-98a7-3d7c5a907c38",
   "metadata": {},
   "outputs": [
    {
     "name": "stdout",
     "output_type": "stream",
     "text": [
      "(30, 40, 50)\n",
      "(10, 20, 30, 40)\n"
     ]
    }
   ],
   "source": [
    "Given_data =(10,20,30,40,50,60,70)\n",
    "new_tuple=(Given_data[2:5])\n",
    "print(new_tuple)\n",
    "print(Given_data[:4])"
   ]
  },
  {
   "cell_type": "markdown",
   "id": "c69a1b75-422b-4f10-9e1d-a2826adfbedc",
   "metadata": {},
   "source": [
    "Task 8"
   ]
  },
  {
   "cell_type": "code",
   "execution_count": 8,
   "id": "5fe31be0-d096-4327-a6ff-ae818454340e",
   "metadata": {},
   "outputs": [
    {
     "name": "stdout",
     "output_type": "stream",
     "text": [
      "4\n",
      "4\n"
     ]
    }
   ],
   "source": [
    "results =('pass','fail','pass','pass','defer','pass')\n",
    "print(results.count('pass'))\n",
    "print(results.index('defer'))"
   ]
  },
  {
   "cell_type": "code",
   "execution_count": null,
   "id": "4a90125d-485a-4f93-9fbf-748a165edb9c",
   "metadata": {},
   "outputs": [],
   "source": []
  }
 ],
 "metadata": {
  "kernelspec": {
   "display_name": "Python 3 (ipykernel)",
   "language": "python",
   "name": "python3"
  },
  "language_info": {
   "codemirror_mode": {
    "name": "ipython",
    "version": 3
   },
   "file_extension": ".py",
   "mimetype": "text/x-python",
   "name": "python",
   "nbconvert_exporter": "python",
   "pygments_lexer": "ipython3",
   "version": "3.13.5"
  }
 },
 "nbformat": 4,
 "nbformat_minor": 5
}
